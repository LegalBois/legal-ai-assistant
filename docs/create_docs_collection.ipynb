{
 "cells": [
  {
   "cell_type": "code",
   "execution_count": 7,
   "metadata": {},
   "outputs": [],
   "source": [
    "import logging\n",
    "import pickle\n",
    "from pathlib import Path\n",
    "from uuid import uuid4\n",
    "\n",
    "import chromadb\n",
    "import numpy as np\n"
   ]
  },
  {
   "cell_type": "code",
   "execution_count": 8,
   "metadata": {},
   "outputs": [],
   "source": [
    "logger = logging.getLogger()\n",
    "logger.setLevel(logging.INFO)"
   ]
  },
  {
   "cell_type": "markdown",
   "metadata": {},
   "source": [
    "## Creation"
   ]
  },
  {
   "cell_type": "code",
   "execution_count": 9,
   "metadata": {},
   "outputs": [],
   "source": [
    "# directory, where Chroma will store collections\n",
    "CHROMADB_STORAGE_FOLDER = Path(\"/home/deniskirbaba/Documents/legal-ai/storage\")\n",
    "\n",
    "# directory with data, used to init legal practice collection (i.e. documents, embeddings, metadata)\n",
    "LEGAL_DOCS_DATA_FOLDER = Path(\"./data\")"
   ]
  },
  {
   "cell_type": "code",
   "execution_count": 10,
   "metadata": {},
   "outputs": [],
   "source": [
    "def init_legal_docs_db():\n",
    "    \"\"\"\n",
    "    Initializes ChromaDB vector storage with legal docs.\n",
    "    \"\"\"\n",
    "    persistent_client = chromadb.PersistentClient(path=str(CHROMADB_STORAGE_FOLDER))\n",
    "    collection = persistent_client.create_collection(\n",
    "        name=\"legal_docs\", get_or_create=True, metadata={\"hnsw:space\": \"cosine\"}\n",
    "    )\n",
    "\n",
    "    # Load embeddings\n",
    "    logging.info(\"Start loading embeddings.\")\n",
    "    embs = np.load(LEGAL_DOCS_DATA_FOLDER / \"chunks_emb.npy\")\n",
    "    logging.info(\"Successfully load embeddings.\")\n",
    "\n",
    "    # Load chunks text and metadata (dict with docs titles)\n",
    "    logging.info(\"Start loading docs and metadatas.\")\n",
    "    with open(LEGAL_DOCS_DATA_FOLDER / \"chunks.pkl\", \"rb\") as f:\n",
    "        chunks = pickle.load(f)\n",
    "    logging.info(\"Successfully load docs and metadatas.\")\n",
    "\n",
    "    # Add data to the collection\n",
    "    logging.info(\"Creating collection.\")\n",
    "    collection.add(\n",
    "        ids=[str(uuid4()) for _ in range(len(embs))],\n",
    "        embeddings=embs,\n",
    "        metadatas=[ch.metadata for ch in chunks],\n",
    "        documents=[ch.page_content for ch in chunks],\n",
    "    )\n",
    "\n",
    "    return persistent_client, collection"
   ]
  },
  {
   "cell_type": "code",
   "execution_count": 17,
   "metadata": {},
   "outputs": [
    {
     "name": "stderr",
     "output_type": "stream",
     "text": [
      "INFO:root:Start loading embeddings.\n"
     ]
    },
    {
     "name": "stderr",
     "output_type": "stream",
     "text": [
      "INFO:root:Successfully load embeddings.\n",
      "INFO:root:Start loading docs and metadatas.\n",
      "INFO:root:Successfully load docs and metadatas.\n",
      "INFO:root:Creating collection.\n"
     ]
    },
    {
     "name": "stdout",
     "output_type": "stream",
     "text": [
      "CPU times: user 1min 8s, sys: 8.28 s, total: 1min 17s\n",
      "Wall time: 1min 23s\n"
     ]
    }
   ],
   "source": [
    "%%time\n",
    "chroma_client, legal_docs_collection = init_legal_docs_db()"
   ]
  },
  {
   "cell_type": "markdown",
   "metadata": {},
   "source": [
    "## Testing"
   ]
  },
  {
   "cell_type": "code",
   "execution_count": 20,
   "metadata": {},
   "outputs": [
    {
     "data": {
      "text/plain": [
       "[Collection(name=legal_docs)]"
      ]
     },
     "execution_count": 20,
     "metadata": {},
     "output_type": "execute_result"
    }
   ],
   "source": [
    "chroma_client.list_collections()"
   ]
  },
  {
   "cell_type": "code",
   "execution_count": 21,
   "metadata": {},
   "outputs": [
    {
     "data": {
      "text/plain": [
       "17285"
      ]
     },
     "execution_count": 21,
     "metadata": {},
     "output_type": "execute_result"
    }
   ],
   "source": [
    "legal_docs_collection.count()"
   ]
  },
  {
   "cell_type": "code",
   "execution_count": 23,
   "metadata": {},
   "outputs": [
    {
     "data": {
      "text/plain": [
       "{'ids': ['baedf80e-0966-41a0-90c2-663bc1acec52'],\n",
       " 'embeddings': None,\n",
       " 'documents': ['РАЗДЕЛ ПЕРВЫЙ\\n\\n\\nГЛАВА 1.\\n\\nОСНОВЫ КОНСТИТУЦИОННОГО СТРОЯ\\n\\n\\nСтатья 1\\n\\n\\n1. Российская Федерация - Россия есть демократическое федеративное правовое государство с республиканской формой правления.\\n\\n2. Наименования Российская Федерация и Россия равнозначны.\\n\\n\\nСтатья 2\\n\\n\\nЧеловек, его права и свободы являются высшей ценностью. Признание, соблюдение и защита прав и свобод человека и гражданина - обязанность государства.\\n\\n\\nСтатья 3\\n\\n\\n1. Носителем суверенитета и единственным источником власти в Российской Федерации является ее многонациональный народ.\\n\\n2. Народ осуществляет свою власть непосредственно, а также через органы государственной власти и органы местного самоуправления.\\n\\n3. Высшим непосредственным выражением власти народа являются референдум и свободные выборы.\\n\\n4. Никто не может присваивать власть в Российской Федерации. Захват власти или присвоение властных полномочий преследуются по федеральному закону.\\n\\n\\nСтатья 4\\n\\n\\n1. Суверенитет Российской Федерации распространяется на всю ее территорию.\\n\\n2. Конституция Российской Федерации и федеральные законы имеют верховенство на всей территории Российской Федерации.\\n\\n3. Российская Федерация обеспечивает целостность и неприкосновенность своей территории.\\n\\n\\nСтатья 5\\n\\n\\n1. Российская Федерация состоит из республик, краев, областей, городов федерального значения, автономной области, автономных округов - равноправных субъектов Российской Федерации.\\n\\n2. Республика (государство) имеет свою конституцию и законодательство. Край, область, город федерального значения, автономная область, автономный округ имеет свой устав и законодательство.\\n\\n3. Федеративное устройство Российской Федерации основано на ее государственной целостности, единстве системы государственной власти, разграничении предметов ведения и полномочий между органами государственной власти Российской Федерации и органами государственной власти субъектов Российской Федерации, равноправии и самоопределении народов в Российской Федерации.\\n\\n4. Во взаимоотношениях с федеральными органами государственной власти все субъекты Российской Федерации между собой равноправны.\\n\\n\\nСтатья 6'],\n",
       " 'uris': None,\n",
       " 'data': None,\n",
       " 'metadatas': [{'title': 'Конституция Российской Федерации (принята всенародным голосованием 12.12.1993 с изменениями, одобренными в ходе общероссийского голосования 01.07.2020)'}],\n",
       " 'included': [<IncludeEnum.documents: 'documents'>,\n",
       "  <IncludeEnum.metadatas: 'metadatas'>]}"
      ]
     },
     "execution_count": 23,
     "metadata": {},
     "output_type": "execute_result"
    }
   ],
   "source": [
    "legal_docs_collection.get('baedf80e-0966-41a0-90c2-663bc1acec52')"
   ]
  }
 ],
 "metadata": {
  "kernelspec": {
   "display_name": "practicing-rag",
   "language": "python",
   "name": "python3"
  },
  "language_info": {
   "codemirror_mode": {
    "name": "ipython",
    "version": 3
   },
   "file_extension": ".py",
   "mimetype": "text/x-python",
   "name": "python",
   "nbconvert_exporter": "python",
   "pygments_lexer": "ipython3",
   "version": "3.12.7"
  }
 },
 "nbformat": 4,
 "nbformat_minor": 2
}
