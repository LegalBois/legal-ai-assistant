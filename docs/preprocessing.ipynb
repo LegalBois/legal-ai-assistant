{
 "cells": [
  {
   "cell_type": "code",
   "execution_count": 48,
   "metadata": {},
   "outputs": [],
   "source": [
    "from pathlib import Path\n",
    "import json\n",
    "from itertools import chain\n",
    "from IPython.display import Markdown\n",
    "import matplotlib.pyplot as plt\n",
    "import polars as pl\n",
    "import pickle\n",
    "from langchain_text_splitters import RecursiveCharacterTextSplitter"
   ]
  },
  {
   "cell_type": "markdown",
   "metadata": {},
   "source": [
    "## Loading"
   ]
  },
  {
   "cell_type": "code",
   "execution_count": 21,
   "metadata": {},
   "outputs": [
    {
     "data": {
      "text/plain": [
       "47"
      ]
     },
     "execution_count": 21,
     "metadata": {},
     "output_type": "execute_result"
    }
   ],
   "source": [
    "data_folder = Path(\"./data/\")\n",
    "len(list(data_folder.iterdir()))"
   ]
  },
  {
   "cell_type": "code",
   "execution_count": 22,
   "metadata": {},
   "outputs": [
    {
     "data": {
      "text/plain": [
       "47"
      ]
     },
     "execution_count": 22,
     "metadata": {},
     "output_type": "execute_result"
    }
   ],
   "source": [
    "with open(\"codexes.json\", \"r\") as f:\n",
    "    codexes = json.load(f)\n",
    "with open(\"laws.json\", \"r\") as f:\n",
    "    laws = json.load(f)\n",
    "    \n",
    "len(codexes) + len(laws)"
   ]
  },
  {
   "cell_type": "code",
   "execution_count": null,
   "metadata": {},
   "outputs": [
    {
     "data": {
      "text/plain": [
       "47"
      ]
     },
     "execution_count": 23,
     "metadata": {},
     "output_type": "execute_result"
    }
   ],
   "source": [
    "docs = {}\n",
    "for doc_name, doc_title in chain(codexes.items(), laws.items()):\n",
    "    with open(data_folder / doc_name) as f:\n",
    "        docs[doc_title] = f.read()\n",
    "\n",
    "len(docs)"
   ]
  },
  {
   "cell_type": "markdown",
   "metadata": {},
   "source": [
    "## Analysing"
   ]
  },
  {
   "cell_type": "code",
   "execution_count": 32,
   "metadata": {},
   "outputs": [
    {
     "data": {
      "text/markdown": [
       "Конституция Российской Федерации (принята всенародным голосованием 12.12.1993 с изменениями, одобренными в ходе общероссийского голосования 01.07.2020)\n",
       "\n",
       "РАЗДЕЛ ПЕРВЫЙ\n",
       "\n",
       "\n",
       "ГЛАВА 1.\n",
       "\n",
       "ОСНОВЫ КОНСТИТУЦИОННОГО СТРОЯ\n",
       "\n",
       "\n",
       "Статья 1\n",
       "\n",
       "\n",
       "1. Российская Федерация - Россия есть демократическое федеративное правовое государство с республиканской формой правления.\n",
       "\n",
       "2. Наименования Российская Федерация и Россия равнозначны.\n",
       "\n",
       "\n",
       "Статья 2\n",
       "\n",
       "\n",
       "Человек, его права и свободы являются высшей ценностью. Признание, соблюдение и защита прав и свобод человека и гражданина - обязанность государства.\n",
       "\n",
       "\n",
       "Статья 3\n",
       "\n",
       "\n",
       "1. Носителем суверенитета и единственным источником власти в Российской"
      ],
      "text/plain": [
       "<IPython.core.display.Markdown object>"
      ]
     },
     "execution_count": 32,
     "metadata": {},
     "output_type": "execute_result"
    }
   ],
   "source": [
    "Markdown(next(iter(docs)) + '\\n\\n' + next(iter(docs.values()))[:500])"
   ]
  },
  {
   "cell_type": "code",
   "execution_count": 35,
   "metadata": {},
   "outputs": [
    {
     "data": {
      "text/html": [
       "<div><style>\n",
       ".dataframe > thead > tr,\n",
       ".dataframe > tbody > tr {\n",
       "  text-align: right;\n",
       "  white-space: pre-wrap;\n",
       "}\n",
       "</style>\n",
       "<small>shape: (9, 2)</small><table border=\"1\" class=\"dataframe\"><thead><tr><th>statistic</th><th>value</th></tr><tr><td>str</td><td>f64</td></tr></thead><tbody><tr><td>&quot;count&quot;</td><td>47.0</td></tr><tr><td>&quot;null_count&quot;</td><td>0.0</td></tr><tr><td>&quot;mean&quot;</td><td>606745.276596</td></tr><tr><td>&quot;std&quot;</td><td>738877.365533</td></tr><tr><td>&quot;min&quot;</td><td>77541.0</td></tr><tr><td>&quot;25%&quot;</td><td>195072.0</td></tr><tr><td>&quot;50%&quot;</td><td>364878.0</td></tr><tr><td>&quot;75%&quot;</td><td>712525.0</td></tr><tr><td>&quot;max&quot;</td><td>4.445184e6</td></tr></tbody></table></div>"
      ],
      "text/plain": [
       "shape: (9, 2)\n",
       "┌────────────┬───────────────┐\n",
       "│ statistic  ┆ value         │\n",
       "│ ---        ┆ ---           │\n",
       "│ str        ┆ f64           │\n",
       "╞════════════╪═══════════════╡\n",
       "│ count      ┆ 47.0          │\n",
       "│ null_count ┆ 0.0           │\n",
       "│ mean       ┆ 606745.276596 │\n",
       "│ std        ┆ 738877.365533 │\n",
       "│ min        ┆ 77541.0       │\n",
       "│ 25%        ┆ 195072.0      │\n",
       "│ 50%        ┆ 364878.0      │\n",
       "│ 75%        ┆ 712525.0      │\n",
       "│ max        ┆ 4.445184e6    │\n",
       "└────────────┴───────────────┘"
      ]
     },
     "execution_count": 35,
     "metadata": {},
     "output_type": "execute_result"
    }
   ],
   "source": [
    "lengths = [len(title) + len(doc) for title, doc in docs.items()]\n",
    "pl.Series(lengths).describe()"
   ]
  },
  {
   "cell_type": "code",
   "execution_count": 38,
   "metadata": {},
   "outputs": [
    {
     "data": {
      "image/png": "[encoded data removed]",
      "text/plain": [
       "<Figure size 640x480 with 1 Axes>"
      ]
     },
     "metadata": {},
     "output_type": "display_data"
    }
   ],
   "source": [
    "plt.hist(lengths, bins=25);"
   ]
  },
  {
   "cell_type": "markdown",
   "metadata": {},
   "source": [
    "## Splitting\n",
    "\n",
    "We are using `deepvk/USER-bge-m3` model for embeddings. It has 8k max length of tokens. So i think it's appropriate to split text into a chunks of 2500 symbols with 20% overlap."
   ]
  },
  {
   "cell_type": "code",
   "execution_count": 39,
   "metadata": {},
   "outputs": [],
   "source": [
    "chunk_size = 2500\n",
    "chunk_overlap_factor = 0.2"
   ]
  },
  {
   "cell_type": "code",
   "execution_count": 41,
   "metadata": {},
   "outputs": [],
   "source": [
    "splitter = RecursiveCharacterTextSplitter(\n",
    "    separators=[\"\\n\\n\\n\", \"\\n\\n\", \"\\n\", \" \", \"\"],\n",
    "    chunk_size=chunk_size,\n",
    "    chunk_overlap=int(chunk_size * chunk_overlap_factor),\n",
    "    is_separator_regex=False,\n",
    ")"
   ]
  },
  {
   "cell_type": "code",
   "execution_count": 42,
   "metadata": {},
   "outputs": [
    {
     "data": {
      "text/plain": [
       "'17285 chunks was construct from 47 docs'"
      ]
     },
     "execution_count": 42,
     "metadata": {},
     "output_type": "execute_result"
    }
   ],
   "source": [
    "chunks = splitter.create_documents(list(docs.values()), metadatas=[{\"title\": t} for t in docs.keys()])\n",
    "f\"{len(chunks)} chunks was construct from {len(docs)} docs\""
   ]
  },
  {
   "cell_type": "code",
   "execution_count": 45,
   "metadata": {},
   "outputs": [
    {
     "data": {
      "text/markdown": [
       "Конституция Российской Федерации (принята всенародным голосованием 12.12.1993 с изменениями, одобренными в ходе общероссийского голосования 01.07.2020)\n",
       "РАЗДЕЛ ПЕРВЫЙ\n",
       "\n",
       "\n",
       "ГЛАВА 1.\n",
       "\n",
       "ОСНОВЫ КОНСТИТУЦИОННОГО СТРОЯ\n",
       "\n",
       "\n",
       "Статья 1\n",
       "\n",
       "\n",
       "1. Российская Федерация - Россия есть демократическое федеративное правовое государство с республиканской формой правления.\n",
       "\n",
       "2. Наименования Российская Федерация и Россия равнозначны.\n",
       "\n",
       "\n",
       "Статья 2\n",
       "\n",
       "\n",
       "Человек, его права и свободы являются высшей ценностью. Признание, соблюдение и защита прав и свобод человека и гражданина - обязанность государства.\n",
       "\n",
       "\n",
       "Статья 3\n",
       "\n",
       "\n",
       "1. Носителем суверенитета и единственным источником власти в Российской Федерации является ее многонациональный народ.\n",
       "\n",
       "2. Народ осуществляет свою власть непосредственно, а также через органы государственной власти и органы местного самоуправления.\n",
       "\n",
       "3. Высшим непосредственным выражением власти народа являются референдум и свободные выборы.\n",
       "\n",
       "4. Никто не может присваивать власть в Российской Федерации. Захват власти или присвоение властных полномочий преследуются по федеральному закону.\n",
       "\n",
       "\n",
       "Статья 4\n",
       "\n",
       "\n",
       "1. Суверенитет Российской Федерации распространяется на всю ее территорию.\n",
       "\n",
       "2. Конституция Российской Федерации и федеральные законы имеют верховенство на всей территории Российской Федерации.\n",
       "\n",
       "3. Российская Федерация обеспечивает целостность и неприкосновенность своей территории.\n",
       "\n",
       "\n",
       "Статья 5\n",
       "\n",
       "\n",
       "1. Российская Федерация состоит из республик, краев, областей, городов федерального значения, автономной области, автономных округов - равноправных субъектов Российской Федерации.\n",
       "\n",
       "2. Республика (государство) имеет свою конституцию и законодательство. Край, область, город федерального значения, автономная область, автономный округ имеет свой устав и законодательство.\n",
       "\n",
       "3. Федеративное устройство Российской Федерации основано на ее государственной целостности, единстве системы государственной власти, разграничении предметов ведения и полномочий между органами государственной власти Российской Федерации и органами государственной власти субъектов Российской Федерации, равноправии и самоопределении народов в Российской Федерации.\n",
       "\n",
       "4. Во взаимоотношениях с федеральными органами государственной власти все субъекты Российской Федерации между собой равноправны.\n",
       "\n",
       "\n",
       "Статья 6"
      ],
      "text/plain": [
       "<IPython.core.display.Markdown object>"
      ]
     },
     "execution_count": 45,
     "metadata": {},
     "output_type": "execute_result"
    }
   ],
   "source": [
    "Markdown(chunks[0].metadata['title'] + '\\n' + chunks[0].page_content)"
   ]
  },
  {
   "cell_type": "markdown",
   "metadata": {},
   "source": [
    "## Saving"
   ]
  },
  {
   "cell_type": "code",
   "execution_count": 49,
   "metadata": {},
   "outputs": [],
   "source": [
    "with open(data_folder / \"chunks.pkl\", \"wb\") as f:\n",
    "    pickle.dump(chunks, f)"
   ]
  }
 ],
 "metadata": {
  "kernelspec": {
   "display_name": "practicing-rag",
   "language": "python",
   "name": "python3"
  },
  "language_info": {
   "codemirror_mode": {
    "name": "ipython",
    "version": 3
   },
   "file_extension": ".py",
   "mimetype": "text/x-python",
   "name": "python",
   "nbconvert_exporter": "python",
   "pygments_lexer": "ipython3",
   "version": "3.12.7"
  }
 },
 "nbformat": 4,
 "nbformat_minor": 2
}
