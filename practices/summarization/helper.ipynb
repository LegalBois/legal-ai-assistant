{
 "cells": [
  {
   "cell_type": "code",
   "execution_count": 1,
   "metadata": {},
   "outputs": [],
   "source": [
    "import pickle\n",
    "from pathlib import Path"
   ]
  },
  {
   "cell_type": "code",
   "execution_count": 2,
   "metadata": {},
   "outputs": [
    {
     "data": {
      "text/plain": [
       "(45465, 29688)"
      ]
     },
     "execution_count": 2,
     "metadata": {},
     "output_type": "execute_result"
    }
   ],
   "source": [
    "practice_processed_folder = Path(\n",
    "    \"/home/deniskirbaba/Documents/legal-ai/practice_db/data/practice_processed\"\n",
    ")\n",
    "summaries_folder = Path(\"/home/deniskirbaba/Documents/legal-ai/practice_db/data/summaries\")\n",
    "\n",
    "len(list(iter(practice_processed_folder.iterdir()))), len(list(iter(summaries_folder.iterdir())))"
   ]
  },
  {
   "cell_type": "code",
   "execution_count": 3,
   "metadata": {},
   "outputs": [
    {
     "data": {
      "text/plain": [
       "15777"
      ]
     },
     "execution_count": 3,
     "metadata": {},
     "output_type": "execute_result"
    }
   ],
   "source": [
    "processed_stems = {path.stem for path in practice_processed_folder.iterdir()}\n",
    "summaries_stems = {path.stem for path in summaries_folder.iterdir()}\n",
    "\n",
    "not_summarized = list(processed_stems - summaries_stems)\n",
    "len(not_summarized)"
   ]
  },
  {
   "cell_type": "code",
   "execution_count": 4,
   "metadata": {},
   "outputs": [],
   "source": [
    "n_workers = 5\n",
    "n_batch = (len(not_summarized) + n_workers) // n_workers\n",
    "\n",
    "for i in range(0, len(not_summarized), n_batch):\n",
    "    with open(f\"not_summarized_{i}.pkl\", \"wb\") as f:\n",
    "        pickle.dump(not_summarized[i : i + n_batch], f)"
   ]
  }
 ],
 "metadata": {
  "kernelspec": {
   "display_name": "practicing-rag",
   "language": "python",
   "name": "python3"
  },
  "language_info": {
   "codemirror_mode": {
    "name": "ipython",
    "version": 3
   },
   "file_extension": ".py",
   "mimetype": "text/x-python",
   "name": "python",
   "nbconvert_exporter": "python",
   "pygments_lexer": "ipython3",
   "version": "3.12.7"
  }
 },
 "nbformat": 4,
 "nbformat_minor": 2
}
