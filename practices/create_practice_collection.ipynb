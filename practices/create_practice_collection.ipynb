{
 "cells": [
  {
   "cell_type": "code",
   "execution_count": 1,
   "metadata": {},
   "outputs": [],
   "source": [
    "import json\n",
    "import logging\n",
    "import pickle\n",
    "from pathlib import Path\n",
    "\n",
    "import chromadb\n",
    "import numpy as np\n",
    "from tqdm import tqdm"
   ]
  },
  {
   "cell_type": "code",
   "execution_count": 2,
   "metadata": {},
   "outputs": [],
   "source": [
    "logger = logging.getLogger()\n",
    "logger.setLevel(logging.INFO)"
   ]
  },
  {
   "cell_type": "markdown",
   "metadata": {},
   "source": [
    "## Initialization"
   ]
  },
  {
   "cell_type": "code",
   "execution_count": 3,
   "metadata": {},
   "outputs": [],
   "source": [
    "# directory, where Chroma will store collections\n",
    "CHROMADB_STORAGE_FOLDER = Path(\"/home/deniskirbaba/Documents/legal-ai/storage\")\n",
    "\n",
    "# directory with data, used to init legal practice collection (i.e. documents, embeddings, metadata)\n",
    "LEGAL_PRACTICES_DATA_FOLDER = Path(\"/home/deniskirbaba/Documents/legal-ai/practice_db/data\")\n",
    "\n",
    "\n",
    "def squeeze_meta(meta: dict) -> dict:\n",
    "    \"\"\"\n",
    "    Convert metadatas lists to strings\n",
    "    \"\"\"\n",
    "    meta[\"codex\"] = \"\".join(meta[\"codex\"])\n",
    "    meta[\"theme\"] = \"\\n\".join(meta[\"theme\"])\n",
    "    return meta\n",
    "\n",
    "\n",
    "def init_legal_practices_db():\n",
    "    \"\"\"\n",
    "    Initializes ChromaDB vector storage with legal practices docs.\n",
    "    \"\"\"\n",
    "    persistent_client = chromadb.PersistentClient(path=str(CHROMADB_STORAGE_FOLDER))\n",
    "    collection = persistent_client.create_collection(\n",
    "        name=\"legal_practices\", get_or_create=True, metadata={\"hnsw:space\": \"cosine\"}\n",
    "    )\n",
    "\n",
    "    # Load doc uids\n",
    "    logging.info(\"Start loading doc uids.\")\n",
    "    with open(LEGAL_PRACTICES_DATA_FOLDER / \"summaries_emb_uids.pkl\", \"rb\") as f:\n",
    "        doc_uids = pickle.load(f)\n",
    "    logging.info(\"Successfully load doc uids.\")\n",
    "\n",
    "    # Load embeddings\n",
    "    logging.info(\"Start loading embeddings.\")\n",
    "    embs = np.load(LEGAL_PRACTICES_DATA_FOLDER / \"summaries_emb.npy\")\n",
    "    logging.info(\"Successfully load embeddings.\")\n",
    "\n",
    "    # Load metadatas (dict with docs uid and metadata (codex and theme))\n",
    "    logging.info(\"Start loading metadatas.\")\n",
    "    with open(LEGAL_PRACTICES_DATA_FOLDER / \"doc2meta.json\", \"r\") as f:\n",
    "        metadatas = json.load(f)\n",
    "    logging.info(\"Successfully load metadatas.\")\n",
    "\n",
    "    # Load summaries (actual docs)\n",
    "    logging.info(\"Start loading summaries.\")\n",
    "    summaries_path = LEGAL_PRACTICES_DATA_FOLDER / \"summaries\"\n",
    "    summaries = {}\n",
    "    for summary_path in tqdm(summaries_path.iterdir()):\n",
    "        with open(summary_path, \"r\") as f:\n",
    "            summaries[summary_path.stem] = f.read()\n",
    "    logging.info(\"Successfully load summaries.\")\n",
    "\n",
    "    # Add data to the collection\n",
    "    collection.add(\n",
    "        ids=doc_uids,\n",
    "        embeddings=embs,\n",
    "        metadatas=[squeeze_meta(metadatas[uid]) for uid in doc_uids],\n",
    "        documents=[summaries[uid] for uid in doc_uids],\n",
    "    )\n",
    "\n",
    "    return persistent_client, collection"
   ]
  },
  {
   "cell_type": "code",
   "execution_count": 4,
   "metadata": {},
   "outputs": [
    {
     "name": "stderr",
     "output_type": "stream",
     "text": [
      "INFO:root:Start loading doc uids.\n",
      "INFO:root:Successfully load doc uids.\n",
      "INFO:root:Start loading embeddings.\n",
      "INFO:root:Successfully load embeddings.\n",
      "INFO:root:Start loading metadatas.\n",
      "INFO:root:Successfully load metadatas.\n",
      "INFO:root:Start loading summaries.\n",
      "32830it [00:18, 1800.36it/s]\n",
      "INFO:root:Successfully load summaries.\n"
     ]
    },
    {
     "name": "stdout",
     "output_type": "stream",
     "text": [
      "CPU times: user 1min 48s, sys: 21.2 s, total: 2min 9s\n",
      "Wall time: 2min 29s\n"
     ]
    }
   ],
   "source": [
    "%%time\n",
    "chroma_client, legal_practices_collection = init_legal_practices_db()"
   ]
  },
  {
   "cell_type": "markdown",
   "metadata": {},
   "source": [
    "## Testing"
   ]
  },
  {
   "cell_type": "code",
   "execution_count": 5,
   "metadata": {},
   "outputs": [
    {
     "data": {
      "text/plain": [
       "[Collection(name=legal_practices), Collection(name=legal_docs)]"
      ]
     },
     "execution_count": 5,
     "metadata": {},
     "output_type": "execute_result"
    }
   ],
   "source": [
    "chroma_client.list_collections()"
   ]
  },
  {
   "cell_type": "code",
   "execution_count": 6,
   "metadata": {},
   "outputs": [
    {
     "data": {
      "text/plain": [
       "18052"
      ]
     },
     "execution_count": 6,
     "metadata": {},
     "output_type": "execute_result"
    }
   ],
   "source": [
    "legal_practices_collection.count()"
   ]
  },
  {
   "cell_type": "code",
   "execution_count": 7,
   "metadata": {},
   "outputs": [
    {
     "data": {
      "text/plain": [
       "{'ids': ['gi9gPiMIqsQV'],\n",
       " 'embeddings': None,\n",
       " 'documents': ['### Резюме судебного решения\\n\\n#### 1. Основные сведения о деле:\\n\\n- **Регулируется:** Гражданским кодексом РФ (ГК РФ), Налоговым кодексом РФ (НК РФ), Конституцией РФ.\\n- **Тематика:** Спор о законности предпринимательской деятельности.\\n\\n#### 2. Стороны и обстоятельства дела:\\n\\n- **Истец:** Прокурор Акушинского района Республики Дагестан.\\n- **Ответчик:** Магомедов Шамиль Гаджиевич.\\n- **Ключевые обстоятельства:** Магомедов осуществлял торговую деятельность без государственной регистрации в качестве индивидуального предпринимателя, что является нарушением федерального законодательства.\\n\\n#### 3. Позиции сторон:\\n\\n- **Истец:** Прокурор утверждал, что Магомедов не зарегистрирован в качестве индивидуального предпринимателя, но занимается торговой деятельностью, что является нарушением законодательства. Просил признать деятельность незаконной и прекратить ее.\\n- **Ответчик:** Магомедов признал иск и подтвердил, что действительно осуществлял предпринимательскую деятельность без регистрации. Пояснил, что намерен зарегистрироваться в ближайшее время.\\n\\n#### 4. Решение суда:\\n\\n- **Итоговое решение:** Иск прокурора удовлетворен.\\n- **В чью пользу вынесено решение:** В пользу прокурора.\\n\\n#### 5. Обоснование решения:\\n\\n- **Ключевые выводы:**\\n  - Магомедов занимается предпринимательской деятельностью, направленной на систематическое получение прибыли, без регистрации в качестве индивидуального предпринимателя.\\n  - Данное обстоятельство подтверждается справкой Межрайонной ИФНС и протоколами о привлечении к административной ответственности.\\n  - Нарушение законодательства связано с отказом платить налоги, что нарушает требования ст. 57 Конституции РФ.\\n- **Законодательные акты:**\\n  - Гражданский кодекс РФ (ст. 2, ст. 23).\\n  - Налоговый кодекс РФ (ст. 83, ст. 11, ст. 333.36).\\n  - Конституция РФ (ст. 57).\\n  - Федеральный закон от 17.01.1992 № «О прокуратуре Российской Федерации» (ст. 35).\\n  - Гражданский процессуальный кодекс РФ (ст. 45, ст. 89, ст. 194-198).\\n\\n#### 6. Рекомендации или замечания:\\n\\n- В случае удовлетворения иска и после вступления решения в законную силу, суд обязан выписать и направить исполнительный лист для исполнения в соответствующий территориальный отдел УФССП России по Республике Дагестан.\\n\\n### Заключение\\n\\nРешение суда основывается на положениях ГК РФ, НК РФ, Конституции РФ, а также на ранее вынесенных решениях и справках, подтверждающих факт незаконной предпринимательской деятельности ответчика. Суд установил, что Магомедов нарушает требования законодательства, связанные с регистрацией и уплатой налогов, и постановил признать его деятельность незаконной и прекратить ее.'],\n",
       " 'uris': None,\n",
       " 'data': None,\n",
       " 'metadatas': [{'codex': 'А',\n",
       "   'theme': 'Осуществление предпринимательской деятельности без регистрации или без разрешения'}],\n",
       " 'included': [<IncludeEnum.documents: 'documents'>,\n",
       "  <IncludeEnum.metadatas: 'metadatas'>]}"
      ]
     },
     "execution_count": 7,
     "metadata": {},
     "output_type": "execute_result"
    }
   ],
   "source": [
    "legal_practices_collection.get(\"gi9gPiMIqsQV\")"
   ]
  }
 ],
 "metadata": {
  "kernelspec": {
   "display_name": "practicing-rag",
   "language": "python",
   "name": "python3"
  },
  "language_info": {
   "codemirror_mode": {
    "name": "ipython",
    "version": 3
   },
   "file_extension": ".py",
   "mimetype": "text/x-python",
   "name": "python",
   "nbconvert_exporter": "python",
   "pygments_lexer": "ipython3",
   "version": "3.12.7"
  }
 },
 "nbformat": 4,
 "nbformat_minor": 2
}
