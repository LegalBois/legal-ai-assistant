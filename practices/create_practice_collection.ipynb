{
 "cells": [
  {
   "cell_type": "code",
   "execution_count": 1,
   "metadata": {},
   "outputs": [],
   "source": [
    "import json\n",
    "import logging\n",
    "import pickle\n",
    "from pathlib import Path\n",
    "\n",
    "import chromadb\n",
    "import numpy as np\n",
    "from tqdm import tqdm, trange"
   ]
  },
  {
   "cell_type": "code",
   "execution_count": 2,
   "metadata": {},
   "outputs": [],
   "source": [
    "logger = logging.getLogger()\n",
    "logger.setLevel(logging.INFO)"
   ]
  },
  {
   "cell_type": "markdown",
   "metadata": {},
   "source": [
    "## Initialization"
   ]
  },
  {
   "cell_type": "code",
   "execution_count": 9,
   "metadata": {},
   "outputs": [],
   "source": [
    "# directory, where Chroma will store collections\n",
    "CHROMADB_STORAGE_FOLDER = Path(\"/home/deniskirbaba/Documents/legal-ai/storage\")\n",
    "\n",
    "# directory with data, used to init legal practice collection (i.e. documents, embeddings, metadata)\n",
    "LEGAL_PRACTICES_DATA_FOLDER = Path(\"/home/deniskirbaba/Documents/legal-ai/practices_data\")\n",
    "\n",
    "\n",
    "def squeeze_meta(meta: dict) -> dict:\n",
    "    \"\"\"\n",
    "    Convert metadatas lists to strings\n",
    "    \"\"\"\n",
    "    meta[\"codex\"] = \"\".join(meta[\"codex\"])\n",
    "    meta[\"theme\"] = \"\\n\".join(meta[\"theme\"])\n",
    "    return meta\n",
    "\n",
    "\n",
    "def init_legal_practices_db():\n",
    "    \"\"\"\n",
    "    Initializes ChromaDB vector storage with legal practices docs.\n",
    "    \"\"\"\n",
    "    persistent_client = chromadb.PersistentClient(path=str(CHROMADB_STORAGE_FOLDER))\n",
    "    collection = persistent_client.create_collection(\n",
    "        name=\"legal_practices\", get_or_create=True, metadata={\"hnsw:space\": \"cosine\"}\n",
    "    )\n",
    "\n",
    "    # Load doc uids\n",
    "    logging.info(\"Start loading doc uids.\")\n",
    "    with open(LEGAL_PRACTICES_DATA_FOLDER / \"summaries_emb_uids.pkl\", \"rb\") as f:\n",
    "        doc_uids = pickle.load(f)\n",
    "    logging.info(\"Successfully load doc uids.\")\n",
    "\n",
    "    # Load embeddings\n",
    "    logging.info(\"Start loading embeddings.\")\n",
    "    embs = np.load(LEGAL_PRACTICES_DATA_FOLDER / \"summaries_emb.npy\")\n",
    "    logging.info(\"Successfully load embeddings.\")\n",
    "\n",
    "    # Load metadatas (dict with docs uid and metadata (codex and theme))\n",
    "    logging.info(\"Start loading metadatas.\")\n",
    "    with open(LEGAL_PRACTICES_DATA_FOLDER / \"doc2meta.json\", \"r\") as f:\n",
    "        metadatas = json.load(f)\n",
    "    logging.info(\"Successfully load metadatas.\")\n",
    "\n",
    "    # Load summaries (actual docs)\n",
    "    logging.info(\"Start loading summaries.\")\n",
    "    summaries_path = LEGAL_PRACTICES_DATA_FOLDER / \"summaries\"\n",
    "    summaries = {}\n",
    "    for summary_path in tqdm(summaries_path.iterdir()):\n",
    "        with open(summary_path, \"r\") as f:\n",
    "            summaries[summary_path.stem] = f.read()\n",
    "    logging.info(\"Successfully load summaries.\")\n",
    "\n",
    "    # Add data in batch maner, because maximum batch size is 41666\n",
    "    batch_size = 16000\n",
    "\n",
    "    for i in trange(0, len(embs), batch_size):\n",
    "        l, r = i, i + batch_size\n",
    "\n",
    "        # Add data to the collection\n",
    "        collection.add(\n",
    "            ids=doc_uids[l:r],\n",
    "            embeddings=embs[l:r],\n",
    "            metadatas=[squeeze_meta(metadatas[uid]) for uid in doc_uids[l:r]],\n",
    "            documents=[summaries[uid] for uid in doc_uids[l:r]],\n",
    "        )\n",
    "\n",
    "    return persistent_client, collection"
   ]
  },
  {
   "cell_type": "code",
   "execution_count": 10,
   "metadata": {},
   "outputs": [
    {
     "name": "stderr",
     "output_type": "stream",
     "text": [
      "INFO:root:Start loading doc uids.\n",
      "INFO:root:Successfully load doc uids.\n",
      "INFO:root:Start loading embeddings.\n"
     ]
    },
    {
     "name": "stderr",
     "output_type": "stream",
     "text": [
      "INFO:root:Successfully load embeddings.\n",
      "INFO:root:Start loading metadatas.\n",
      "INFO:root:Successfully load metadatas.\n",
      "INFO:root:Start loading summaries.\n",
      "45465it [00:07, 6309.31it/s]\n",
      "INFO:root:Successfully load summaries.\n"
     ]
    },
    {
     "name": "stdout",
     "output_type": "stream",
     "text": [
      "CPU times: user 5min 2s, sys: 42.1 s, total: 5min 44s\n",
      "Wall time: 6min 7s\n"
     ]
    }
   ],
   "source": [
    "%%time\n",
    "chroma_client, legal_practices_collection = init_legal_practices_db()"
   ]
  },
  {
   "cell_type": "markdown",
   "metadata": {},
   "source": [
    "## Testing"
   ]
  },
  {
   "cell_type": "code",
   "execution_count": 11,
   "metadata": {},
   "outputs": [
    {
     "data": {
      "text/plain": [
       "[Collection(name=legal_practices), Collection(name=legal_docs)]"
      ]
     },
     "execution_count": 11,
     "metadata": {},
     "output_type": "execute_result"
    }
   ],
   "source": [
    "chroma_client.list_collections()"
   ]
  },
  {
   "cell_type": "code",
   "execution_count": 12,
   "metadata": {},
   "outputs": [
    {
     "data": {
      "text/plain": [
       "45465"
      ]
     },
     "execution_count": 12,
     "metadata": {},
     "output_type": "execute_result"
    }
   ],
   "source": [
    "legal_practices_collection.count()"
   ]
  },
  {
   "cell_type": "code",
   "execution_count": 14,
   "metadata": {},
   "outputs": [
    {
     "data": {
      "text/plain": [
       "dict_keys(['ids', 'embeddings', 'documents', 'uris', 'data', 'metadatas', 'included'])"
      ]
     },
     "execution_count": 14,
     "metadata": {},
     "output_type": "execute_result"
    }
   ],
   "source": [
    "legal_practices_collection.get().keys()"
   ]
  },
  {
   "cell_type": "code",
   "execution_count": 15,
   "metadata": {},
   "outputs": [
    {
     "data": {
      "text/plain": [
       "{'ids': ['0l4Wt30zRKJj'],\n",
       " 'embeddings': None,\n",
       " 'documents': ['### Резюме судебного решения № 2-24/2024 от 15 января 2024 г. по делу № 2-24/2024\\n\\n#### 1. Основные сведения о деле:\\n- **Регулируется:** Гражданским кодексом Российской Федерации (ГК РФ) и Гражданским процессуальным кодексом Российской Федерации (ГПК РФ).\\n- **Тематика дела:** Спор о восстановлении срока для принятия наследства и признании факта принятия наследства.\\n\\n#### 2. Стороны и обстоятельства дела:\\n- **Истец:** ФИО1.\\n- **Ответчик:** Публичное акционерное общество Банк ВТБ.\\n- **Обстоятельства:** ФИО1, племянница умершего ФИО5, узнала о наличии ошибок в документах, подтверждающих их родство, что помешало своевременному обращению к нотариусу для принятия наследства. У ФИО5 имелся банковский счет в Банке ВТБ с денежными средствами. Иных наследников у ФИО5 нет.\\n\\n#### 3. Позиции сторон:\\n- **Истец:** ФИО1 ссылается на статью 1155 ГК РФ и просит восстановить срок для принятия наследства и признать факт принятия наследства в виде денежных средств на банковском счете.\\n- **Ответчик:** Не явился в судебное заседание, причины неявки не уведомил.\\n\\n#### 4. Решение суда:\\n- **Итоговое решение:** Исковые требования ФИО1 удовлетворены в полном объеме.\\n- **В чью пользу вынесено решение:** В пользу истца, ФИО1.\\n\\n#### 5. Обоснование решения:\\n- **Ключевые выводы суда:**\\n  - Истец не знала и не могла знать об открытии наследства из-за ошибок в документах, подтверждающих родство.\\n  - Причины пропуска срока для принятия наследства были уважительными.\\n  - Истец обратилась в суд в течение шести месяцев после отпадения причин пропуска срока.\\n  - Истец фактически приняла наследство, совершив действия, свидетельствующие о принятии наследства.\\n- **Законодательные акты и нормативные документы:**\\n  - Статьи 1152, 1153, 1154, 1155 ГК РФ.\\n  - Постановление Пленума Верховного Суда Российской Федерации от 29 мая 2012 г. № 9 \"О судебной практике по делам о наследовании\".\\n  - Статья 205 ГК РФ.\\n  - Статья 167 ГПК РФ.\\n  - Статьи 194–199 ГПК РФ.\\n\\n#### 6. Рекомендации или замечания:\\n- **Возможность апелляции:** Решение может быть обжаловано в апелляционном порядке в Забайкальский краевой суд через Забайкальский районный суд в течение месяца со дня принятия решения суда в окончательной форме.\\n\\n---\\n\\n**Примечание:** В резюме использованы вымышленные данные для защиты конфиденциальности сторон.'],\n",
       " 'uris': None,\n",
       " 'data': None,\n",
       " 'metadatas': [{'codex': 'Г',\n",
       "   'theme': 'Судебная практика по Гражданскому кодексу'}],\n",
       " 'included': [<IncludeEnum.documents: 'documents'>,\n",
       "  <IncludeEnum.metadatas: 'metadatas'>]}"
      ]
     },
     "execution_count": 15,
     "metadata": {},
     "output_type": "execute_result"
    }
   ],
   "source": [
    "ids = legal_practices_collection.get()['ids'][0]\n",
    "legal_practices_collection.get(ids)"
   ]
  }
 ],
 "metadata": {
  "kernelspec": {
   "display_name": "practicing-rag",
   "language": "python",
   "name": "python3"
  },
  "language_info": {
   "codemirror_mode": {
    "name": "ipython",
    "version": 3
   },
   "file_extension": ".py",
   "mimetype": "text/x-python",
   "name": "python",
   "nbconvert_exporter": "python",
   "pygments_lexer": "ipython3",
   "version": "3.12.7"
  }
 },
 "nbformat": 4,
 "nbformat_minor": 2
}
