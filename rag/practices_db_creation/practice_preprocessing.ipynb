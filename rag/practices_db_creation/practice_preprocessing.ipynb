{
 "cells": [
  {
   "cell_type": "code",
   "execution_count": null,
   "metadata": {},
   "outputs": [],
   "source": [
    "import json\n",
    "from pathlib import Path\n",
    "\n",
    "import matplotlib.pyplot as plt\n",
    "from bs4 import BeautifulSoup\n",
    "from tqdm import tqdm"
   ]
  },
  {
   "cell_type": "code",
   "execution_count": 2,
   "metadata": {},
   "outputs": [],
   "source": [
    "metadata_path = Path(\"data/SUDACT_DATA_FULL.json\")\n",
    "\n",
    "with open(metadata_path) as meta_file:\n",
    "    meta = json.loads(meta_file.read())"
   ]
  },
  {
   "cell_type": "code",
   "execution_count": null,
   "metadata": {},
   "outputs": [
    {
     "name": "stderr",
     "output_type": "stream",
     "text": [
      "100%|██████████| 130/130 [00:00<00:00, 819.78it/s]\n"
     ]
    }
   ],
   "source": [
    "doc2meta = {}  # create doc uid to metadata mapping\n",
    "\n",
    "for docs_group in tqdm(meta):\n",
    "    codex = docs_group[\"tags\"][0][0]\n",
    "    theme = docs_group[\"tags\"][1]\n",
    "    for doc_uid in docs_group[\"documents\"]:\n",
    "        if doc_uid not in doc2meta.keys():\n",
    "            doc2meta[doc_uid] = {\"codex\": [codex], \"theme\": [theme]}\n",
    "        else:\n",
    "            doc2meta[doc_uid][\"codex\"].append(codex)\n",
    "            doc2meta[doc_uid][\"codex\"] = sorted(list(set(doc2meta[doc_uid][\"codex\"])))\n",
    "            doc2meta[doc_uid][\"theme\"].append(theme)\n",
    "            doc2meta[doc_uid][\"theme\"] = sorted(list(set(doc2meta[doc_uid][\"theme\"])))"
   ]
  },
  {
   "cell_type": "code",
   "execution_count": null,
   "metadata": {},
   "outputs": [],
   "source": [
    "with open(\"data/doc2meta.json\", \"w\") as f:\n",
    "    json.dump(doc2meta, f)"
   ]
  },
  {
   "cell_type": "code",
   "execution_count": null,
   "metadata": {},
   "outputs": [],
   "source": [
    "!unzip data/OUTPUT_PARSE.zip data/"
   ]
  },
  {
   "cell_type": "code",
   "execution_count": 16,
   "metadata": {},
   "outputs": [
    {
     "data": {
      "text/plain": [
       "51341"
      ]
     },
     "execution_count": 16,
     "metadata": {},
     "output_type": "execute_result"
    }
   ],
   "source": [
    "docs_path = Path(\"data/OUTPUT_PARSE\")\n",
    "docs_paths = list(docs_path.iterdir())\n",
    "len(docs_paths)"
   ]
  },
  {
   "cell_type": "code",
   "execution_count": 17,
   "metadata": {},
   "outputs": [],
   "source": [
    "def parse_html(html: str) -> str:\n",
    "    \"\"\"\n",
    "    Parse HTML doc to raw text. Also extract only data from <body> tags.\n",
    "\n",
    "    Adds a new line for 'br',  'p', 'h1', 'h2', 'h3', 'h4','tr', 'th' tags\n",
    "    and also a new line in front of text for li elements (bullet lists).\n",
    "    \"\"\"\n",
    "    soup = BeautifulSoup(html, features=\"html.parser\").body\n",
    "\n",
    "    text = \"\"\n",
    "    for e in soup.descendants:\n",
    "        if isinstance(e, str):\n",
    "            text += e.strip()\n",
    "        elif e.name in [\"br\", \"p\", \"h1\", \"h2\", \"h3\", \"h4\", \"tr\", \"th\"]:\n",
    "            text += \"\\n\"\n",
    "        elif e.name == \"li\":\n",
    "            text += \"\\n- \"\n",
    "    return text"
   ]
  },
  {
   "cell_type": "code",
   "execution_count": 19,
   "metadata": {},
   "outputs": [
    {
     "name": "stderr",
     "output_type": "stream",
     "text": [
      "100%|██████████| 51341/51341 [09:58<00:00, 85.77it/s] \n"
     ]
    },
    {
     "data": {
      "text/plain": [
       "51341"
      ]
     },
     "execution_count": 19,
     "metadata": {},
     "output_type": "execute_result"
    }
   ],
   "source": [
    "docs = {}\n",
    "for doc_path in tqdm(docs_paths):\n",
    "    with open(doc_path, \"r\") as f:\n",
    "        html_doc = f.read()\n",
    "    docs[doc_path.stem] = parse_html(html_doc)\n",
    "\n",
    "len(docs)"
   ]
  },
  {
   "cell_type": "code",
   "execution_count": 30,
   "metadata": {},
   "outputs": [
    {
     "data": {
      "image/png": "[encoded data removed]",
      "text/plain": [
       "<Figure size 640x480 with 1 Axes>"
      ]
     },
     "metadata": {},
     "output_type": "display_data"
    }
   ],
   "source": [
    "plt.hist([len(doc) for doc in docs.values()], bins=200);"
   ]
  },
  {
   "cell_type": "code",
   "execution_count": 31,
   "metadata": {},
   "outputs": [
    {
     "data": {
      "text/plain": [
       "45465"
      ]
     },
     "execution_count": 31,
     "metadata": {},
     "output_type": "execute_result"
    }
   ],
   "source": [
    "# Drop long docs (in order to fit in context length of llm, used for summarization)\n",
    "docs = {uid: doc for uid, doc in docs.items() if len(doc) < 35000}\n",
    "len(docs)"
   ]
  },
  {
   "cell_type": "code",
   "execution_count": null,
   "metadata": {},
   "outputs": [
    {
     "name": "stderr",
     "output_type": "stream",
     "text": [
      "100%|██████████| 45465/45465 [00:24<00:00, 1819.13it/s]\n"
     ]
    }
   ],
   "source": [
    "# Save processed docs\n",
    "processed_docs_path = Path(\"data/practice_processed/\")\n",
    "processed_docs_path.mkdir(exist_ok=True)\n",
    "\n",
    "for uid, doc in tqdm(docs.items()):\n",
    "    with open(processed_docs_path / f\"{uid}.txt\", \"w\") as f:\n",
    "        f.write(doc)"
   ]
  }
 ],
 "metadata": {
  "kernelspec": {
   "display_name": "practicing-rag",
   "language": "python",
   "name": "python3"
  },
  "language_info": {
   "codemirror_mode": {
    "name": "ipython",
    "version": 3
   },
   "file_extension": ".py",
   "mimetype": "text/x-python",
   "name": "python",
   "nbconvert_exporter": "python",
   "pygments_lexer": "ipython3",
   "version": "3.12.7"
  }
 },
 "nbformat": 4,
 "nbformat_minor": 2
}
