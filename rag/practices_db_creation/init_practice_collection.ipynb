{
 "cells": [
  {
   "cell_type": "code",
   "execution_count": 1,
   "metadata": {},
   "outputs": [],
   "source": [
    "import json\n",
    "from pathlib import Path\n",
    "\n",
    "import chromadb"
   ]
  },
  {
   "cell_type": "code",
   "execution_count": null,
   "metadata": {},
   "outputs": [],
   "source": [
    "storage_path = \"vector_storage\"  # directory, where ChromaDB will store collections\n",
    "persistent_client = chromadb.PersistentClient(path=storage_path)\n",
    "legal_practices_coll = persistent_client.create_collection(\n",
    "    name=\"legal_practices\", get_or_create=True, metadata={\"hnsw:space\": \"cosine\"}\n",
    ")"
   ]
  },
  {
   "cell_type": "code",
   "execution_count": null,
   "metadata": {},
   "outputs": [],
   "source": [
    "legal_practices_data_path = Path(\"data/summaries_w_emb.json\")  # dict with docs uid, summary and embeddings \n",
    "with open(legal_practices_data_path, \"r\") as f:\n",
    "    legal_practices_data = json.load(f)"
   ]
  },
  {
   "cell_type": "code",
   "execution_count": null,
   "metadata": {},
   "outputs": [],
   "source": [
    "legal_practices_meta_path = Path(\"data/doc2meta.json\")  # dict with docs uid and metadata (codex and theme)\n",
    "with open(legal_practices_meta_path, \"r\") as f:\n",
    "    legal_practices_meta = json.load(f)"
   ]
  },
  {
   "cell_type": "code",
   "execution_count": null,
   "metadata": {},
   "outputs": [],
   "source": [
    "def squeeze_meta(meta: dict) -> dict:\n",
    "    \"\"\"\n",
    "    Convert metadatas lists to strings\n",
    "    \"\"\"\n",
    "    meta[\"codex\"] = \"\".join(meta[\"codex\"])\n",
    "    meta[\"theme\"] = \"\\n\".join(meta[\"theme\"])\n",
    "    return meta"
   ]
  },
  {
   "cell_type": "code",
   "execution_count": 21,
   "metadata": {},
   "outputs": [],
   "source": [
    "legal_practices_coll.add(\n",
    "    ids=[k for k in legal_practices_data.keys()],\n",
    "    embeddings=[val[\"emb\"] for val in legal_practices_data.values()],\n",
    "    metadatas=[squeeze_meta(legal_practices_meta[k]) for k in legal_practices_data.keys()],\n",
    "    documents=[val[\"text\"] for val in legal_practices_data.values()],\n",
    ")"
   ]
  }
 ],
 "metadata": {
  "kernelspec": {
   "display_name": "practicing-rag",
   "language": "python",
   "name": "python3"
  },
  "language_info": {
   "codemirror_mode": {
    "name": "ipython",
    "version": 3
   },
   "file_extension": ".py",
   "mimetype": "text/x-python",
   "name": "python",
   "nbconvert_exporter": "python",
   "pygments_lexer": "ipython3",
   "version": "3.12.7"
  }
 },
 "nbformat": 4,
 "nbformat_minor": 2
}
